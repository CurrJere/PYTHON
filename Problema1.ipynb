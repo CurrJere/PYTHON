{
 "cells": [
  {
   "cell_type": "markdown",
   "metadata": {},
   "source": [
    "Dada una matriz cuadrada, calcular la diferencia absoluta entre las sumas de sus diagonales. Por ejemplo, la matriz cuadrada se muestra a continuación:\n",
    "\n",
    "| 1 2 3 |\n",
    "\n",
    "| 4 5 6 |\n",
    "\n",
    "| 9 8 9 |\n",
    "\n",
    "La diagonal de izquierda a derecha = \n",
    "1+5+9=15.\n",
    "La diagonal de derecha a izquierda = \n",
    "3+5+9=17.\n",
    "Su diferencia absoluta es \n",
    "∣15−17∣=2.\n",
    "Descripción del algoritmo\n",
    "Para la resolución del ejercicio es necesario construir una función denominada diferenciaDiagonales que debe tener un parámetro de entrada que representa una matriz:\n",
    "\n",
    "int arr[n][m]: una matriz de enteros\n",
    "y un retorno:\n",
    "\n",
    "int: la diferencia absoluta de las diagonales\n",
    "Restricciones\n",
    "1 <= n <= 100\n",
    "100 <= arr[i][j] <= 100\n",
    "Formato de salida\n",
    "El programa debe devolver en una linea la diferencia absoluta entre las sumas de las dos diagonales de la matriz como un único entero.\n",
    "\n",
    "Ejemplo de entrada\n",
    "Entrada: 3 11 2 4 4 5 6 10 8\n",
    "\n",
    "Salida: 15"
   ]
  }
 ],
 "metadata": {
  "kernelspec": {
   "display_name": "Python 3",
   "language": "python",
   "name": "python3"
  },
  "language_info": {
   "codemirror_mode": {
    "name": "ipython",
    "version": 3
   },
   "file_extension": ".py",
   "mimetype": "text/x-python",
   "name": "python",
   "nbconvert_exporter": "python",
   "pygments_lexer": "ipython3",
   "version": "3.12.7"
  }
 },
 "nbformat": 4,
 "nbformat_minor": 2
}
