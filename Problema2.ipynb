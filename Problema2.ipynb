{
 "cells": [
  {
   "cell_type": "markdown",
   "metadata": {},
   "source": [
    "Diego y Lucia han resuelto un ejercicio de examen de la carrera. El profesor ha calificado los dos desafíos, otorgando puntos en una escala de 1 a 100 en tres categorías: claridad del problema, originalidad y dificultad.\n",
    "\n",
    "La calificación para el desafío de Diego es el triplete a = (a[0], a[1], a[2]), y la calificación para el desafío de Lucia es el triplete b = (b[0], b[1], b[2]).\n",
    "\n",
    "La tarea es encontrar sus puntos de comparación comparando a[0] con b[0], a[1] con b[1] y a[2] con b[2].\n",
    "\n",
    "Si a[i] > b[i], Diego recibe 1 punto.\n",
    "Si a[i] < b[i], Lucia recibe 1 punto.\n",
    "Si a[i] = b[i], ninguno recibe un punto.\n",
    "Los puntos de comparación son el total de puntos que una persona consiguió. Dado a y b, determina sus respectivos puntos de comparación.\n",
    "\n",
    "Ejemplo:\n",
    "\n",
    "a = [1, 2, 3]\n",
    "b = [3, 2, 1]\n",
    "\n",
    "Para los elementos en la posición 0, Lucia recibe un punto porque a[0] < b[0].\n",
    "Para los elementos iguales a[1] y b[1], no se otorgan puntos.\n",
    "Para los elementos en la posición 2, a[2] > b[2], por lo que Diego recibe un punto.\n",
    "El resultado es [1, 1], con el puntaje de Diego primero y el de Lucia segunda.\n",
    "\n",
    "Descripción de la función\n",
    "Crear una función denominada compararTriples que tiene como parámetros de entrada:\n",
    "\n",
    "int a[3]: la calificación del desafío de Diego.\n",
    "int b[3]: la calificación del desafío de Lucia.\n",
    "y un retorno:\n",
    "\n",
    "int[2]: la puntuación de Diego debe aparecer en la primera posición y la de Lucia en la segunda.\n",
    "Restricciones\n",
    "1 <= a[𝑖] <= 100\n",
    "1 <= b[𝑖] <= 100\n",
    "Formato de salida\n",
    "El programa debe devolver en una linea las puntuaciones de ambos alumnos.\n",
    "\n",
    "Ejemplo de entrada\n",
    "Entrada: 5 6 7 3 6 10\n",
    "\n",
    "Salida: 1 1"
   ]
  },
  {
   "cell_type": "code",
   "execution_count": 7,
   "metadata": {},
   "outputs": [
    {
     "name": "stdout",
     "output_type": "stream",
     "text": [
      "1 1\n"
     ]
    }
   ],
   "source": [
    "a = [3, 2, 1]\n",
    "b = [1, 2, 3]\n",
    "\n",
    "puntos_diego = 0\n",
    "puntos_lucia = 0\n",
    "\n",
    "for i in range(3):\n",
    "    if a[i] < b[i]:\n",
    "        puntos_lucia += 1\n",
    "    elif a[i] > b[i]:\n",
    "        puntos_diego += 1\n",
    "\n",
    "print(puntos_diego, puntos_lucia)\n",
    "\n"
   ]
  },
  {
   "cell_type": "markdown",
   "metadata": {},
   "source": [
    "Ejemplos de LISTAS: "
   ]
  },
  {
   "cell_type": "code",
   "execution_count": 11,
   "metadata": {},
   "outputs": [
    {
     "name": "stdout",
     "output_type": "stream",
     "text": [
      "[0, 2, 3, 5, 5, 6, 7, 9]\n"
     ]
    }
   ],
   "source": [
    "a = [0, 2, 5 ,9 ,7, 5, 3, 6]\n",
    "b = []\n",
    "l = len(a)\n",
    "\n",
    "\n",
    "for i in  range(0, l):\n",
    "    min = 20000000000\n",
    "    pos = -1\n",
    "    for j in range(len(a)):\n",
    "        if a[j] < min:\n",
    "            min = a[j]\n",
    "            pos = j\n",
    "    b.append(min)\n",
    "    del a[pos]\n",
    "print (b)\n",
    "\n",
    "\n",
    " "
   ]
  },
  {
   "cell_type": "markdown",
   "metadata": {},
   "source": [
    "DICCIONARIOS"
   ]
  },
  {
   "cell_type": "code",
   "execution_count": 5,
   "metadata": {},
   "outputs": [
    {
     "name": "stdout",
     "output_type": "stream",
     "text": [
      "[(-1, 4), (-1, 8), (2, 1), (4, 2), (4, 3), (5, 5), (10, 6), (23, 9), (90, 7)]\n",
      "a hola\n",
      "9 abc\n"
     ]
    }
   ],
   "source": [
    "def hola():\n",
    "    print(\"Hola\")\n",
    "    return -1\n",
    "\n",
    "a = {1:2, 2:3, 2:4, 3:4, 4:-1, 5:5, 6:10, 7:90, 8:-1, 9:23}\n",
    "b = []\n",
    "l = len (a)\n",
    "\n",
    "for i in  range(0, l):\n",
    "    min = 20000000000\n",
    "    pos = -1\n",
    "\n",
    "    for key, value in a.items():\n",
    "        if value < min:\n",
    "            min = value\n",
    "            pos = key\n",
    "    b.append((min, pos))\n",
    "    del a[pos]\n",
    "print (b)\n",
    "\n",
    "d = {'a': 'hola', l:'abc'}\n",
    "\n",
    "for key, value in d.items():\n",
    "    print(key, value)\n",
    "    \n"
   ]
  }
 ],
 "metadata": {
  "kernelspec": {
   "display_name": "Python 3",
   "language": "python",
   "name": "python3"
  },
  "language_info": {
   "codemirror_mode": {
    "name": "ipython",
    "version": 3
   },
   "file_extension": ".py",
   "mimetype": "text/x-python",
   "name": "python",
   "nbconvert_exporter": "python",
   "pygments_lexer": "ipython3",
   "version": "3.12.7"
  }
 },
 "nbformat": 4,
 "nbformat_minor": 2
}
