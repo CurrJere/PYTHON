{
 "cells": [
  {
   "cell_type": "markdown",
   "metadata": {},
   "source": [
    "Problema 3\n",
    "Dado un rango de números enteros definido por dos límites a y b (donde a y b pueden ser cualquier número entero, positivo o negativo), calcular cuántos cuadrados perfectos existen dentro de ese rango, inclusivo.\n",
    "\n",
    "Un cuadrado perfecto es un número que es el cuadrado de otro número entero, es decir, un número de la forma x * x, donde x es un número entero.\n",
    "\n",
    "Descripción del algoritmo:\n",
    "Para la resolución del problema es necesario construir una función denominada cuadradosPerfectos que debe incluir dos parámetros de entrada:\n",
    "\n",
    "int a: el límite inferior del rango.\n",
    "int b: el límite superior del rango.\n",
    "y la función debe devolver un único valor:\n",
    "\n",
    "int: el número de cuadrados perfectos que existen dentro del rango definido por a y b, inclusivo.\n",
    "Restricciones:\n",
    "−∞ < a ≤ b <∞\n",
    "La función debe ser capaz de manejar correctamente rangos que incluyan números negativos y grandes rangos de números.\n",
    "Formato de salida\n",
    "El programa debe devolver en una linea el número de cuadrados perfectos dentro del rango.\n",
    "\n",
    "Ejemplo de entrada\n",
    "Entrada: -10 100\n",
    "\n",
    "Salida: 10"
   ]
  },
  {
   "cell_type": "code",
   "execution_count": 1,
   "metadata": {},
   "outputs": [
    {
     "name": "stdout",
     "output_type": "stream",
     "text": [
      "10\n"
     ]
    }
   ],
   "source": [
    "from math import sqrt\n",
    "\n",
    "def cuadradosPerfectos (a,b):\n",
    "\n",
    "    x = 0; #Contador de cuadrados perfectos\n",
    "\n",
    "    if a < 0:\n",
    "        a = 0\n",
    "    if b < 0:\n",
    "        b = 0\n",
    "\n",
    "    for i in range(a,b):\n",
    "\n",
    "        if sqrt(i).is_integer():\n",
    "            x += 1\n",
    "\n",
    "    return x\n",
    "\n",
    "a = -10\n",
    "b = 100\n",
    "\n",
    "print(cuadradosPerfectos(a,b))"
   ]
  }
 ],
 "metadata": {
  "kernelspec": {
   "display_name": "Python 3",
   "language": "python",
   "name": "python3"
  },
  "language_info": {
   "codemirror_mode": {
    "name": "ipython",
    "version": 3
   },
   "file_extension": ".py",
   "mimetype": "text/x-python",
   "name": "python",
   "nbconvert_exporter": "python",
   "pygments_lexer": "ipython3",
   "version": "3.12.7"
  }
 },
 "nbformat": 4,
 "nbformat_minor": 2
}
