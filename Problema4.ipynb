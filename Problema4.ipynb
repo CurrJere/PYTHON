{
 "cells": [
  {
   "cell_type": "markdown",
   "metadata": {},
   "source": [
    "Problema 4\n",
    "Dado un conjunto de cinco enteros positivos, encuentra los valores mínimo y máximo que se pueden calcular sumando exactamente cuatro de los cinco enteros.\n",
    "\n",
    "Descripción del algoritmo\n",
    "Para la resolución del ejercicio es necesario construir una función denominada min_max_suma que debe tener un parámetro de entrada que representa un array (lista):\n",
    "\n",
    "int arr[5]: un array de enteros positivos.\n",
    "y un retorno:\n",
    "\n",
    "(int, int): una tupla con los valores mínimo y máximo.\n",
    "Restricciones\n",
    "1 <= arr[i] <= 109\n",
    "Formato de salida\n",
    "El programa debe devolver en una linea el valor máximo y el valor mínimo que se puede calcular en base a los números.\n",
    "\n",
    "Ejemplo de entrada\n",
    "Entrada: 1 2 3 4 5\n",
    "\n",
    "Salida: 14"
   ]
  },
  {
   "cell_type": "code",
   "execution_count": 3,
   "metadata": {},
   "outputs": [
    {
     "name": "stdout",
     "output_type": "stream",
     "text": [
      "Valores mínimo y máximo: 10, 14\n"
     ]
    }
   ],
   "source": [
    "import random\n",
    "\n",
    "def numerosAleatorios(numAlet):\n",
    "    aleatorio = random.randint(1, 1000000000000)\n",
    "    numAlet =  aleatorio\n",
    "    return numAlet\n",
    "    \n",
    "    \n",
    "\n",
    "\n",
    "def min_max_suma(arr):\n",
    "    if len(arr) != 5:\n",
    "        raise ValueError(\"La lista debe contener exactamente 5 enteros.\")\n",
    "    total_sum = sum(arr)\n",
    "    min_sum = total_sum - max(arr)\n",
    "    max_sum = total_sum - min(arr)\n",
    "    return (min_sum, max_sum)\n",
    "\n",
    "\n",
    "numAlet = 0\n",
    "\n",
    "\n",
    "while():     \n",
    "    numerosAleatorios(numAlet)\n",
    "\n",
    "\n",
    "\n",
    "resultado = min_max_suma(arr)\n",
    "print(f\"Valores mínimo y máximo: {resultado[0]}, {resultado[1]}\")\n"
   ]
  }
 ],
 "metadata": {
  "kernelspec": {
   "display_name": "Python 3",
   "language": "python",
   "name": "python3"
  },
  "language_info": {
   "codemirror_mode": {
    "name": "ipython",
    "version": 3
   },
   "file_extension": ".py",
   "mimetype": "text/x-python",
   "name": "python",
   "nbconvert_exporter": "python",
   "pygments_lexer": "ipython3",
   "version": "3.12.7"
  }
 },
 "nbformat": 4,
 "nbformat_minor": 2
}
