{
 "cells": [
  {
   "cell_type": "markdown",
   "metadata": {},
   "source": [
    "Este código resuelve la ecuación ax**2 + bx + c = 0"
   ]
  },
  {
   "cell_type": "code",
   "execution_count": 1,
   "metadata": {},
   "outputs": [
    {
     "name": "stdout",
     "output_type": "stream",
     "text": [
      "The solution are (-3+0j) and (-2+0j)\n"
     ]
    }
   ],
   "source": [
    "import cmath\n",
    "a = 1\n",
    "b = 5\n",
    "c = 6\n",
    "# calculate the discriminant\n",
    "d = (b**2) - (4*a*c)\n",
    "# find two solutions\n",
    "sol1 = (-b-cmath.sqrt(d))/(2*a)\n",
    "sol2 = (-b+cmath.sqrt(d))/(2*a)\n",
    "print('The solution are {0} and {1}'.format(sol1,sol2))\n"
   ]
  },
  {
   "cell_type": "markdown",
   "metadata": {},
   "source": [
    "EJEMPLO LISTAS"
   ]
  },
  {
   "cell_type": "code",
   "execution_count": null,
   "metadata": {},
   "outputs": [],
   "source": [
    "a = [0, 2, 5 ,9 ,7, 5, 3, 6]\n",
    "b = []\n",
    "l = len(a)\n",
    "\n",
    "\n",
    "for i in  range(0, l):\n",
    "    min = 20000000000\n",
    "    pos = -1\n",
    "    for j in range(len(a)):\n",
    "        if a[j] < min:\n",
    "            min = a[j]\n",
    "            pos = j\n",
    "    b.append(min)\n",
    "    del a[pos]\n",
    "print (b)\n",
    "\n"
   ]
  },
  {
   "cell_type": "markdown",
   "metadata": {},
   "source": [
    "DICCIONARIOS"
   ]
  },
  {
   "cell_type": "code",
   "execution_count": null,
   "metadata": {},
   "outputs": [],
   "source": [
    "def hola():\n",
    "    print(\"Hola\")\n",
    "    return -1\n",
    "\n",
    "a = {1:2, 2:3, 2:4, 3:4, 4:-1, 5:5, 6:10, 7:90, 8:-1, 9:23}\n",
    "b = []\n",
    "l = len (a)\n",
    "\n",
    "for i in  range(0, l):\n",
    "    min = 20000000000\n",
    "    pos = -1\n",
    "\n",
    "    for key, value in a.items():\n",
    "        if value < min:\n",
    "            min = value\n",
    "            pos = key\n",
    "    b.append((min, pos))\n",
    "    del a[pos]\n",
    "print (b)\n",
    "\n",
    "d = {'a': 'hola', l:'abc'}\n",
    "\n",
    "for key, value in d.items():\n",
    "    print(key, value)\n",
    "    \n"
   ]
  }
 ],
 "metadata": {
  "kernelspec": {
   "display_name": "Python 3",
   "language": "python",
   "name": "python3"
  },
  "language_info": {
   "codemirror_mode": {
    "name": "ipython",
    "version": 3
   },
   "file_extension": ".py",
   "mimetype": "text/x-python",
   "name": "python",
   "nbconvert_exporter": "python",
   "pygments_lexer": "ipython3",
   "version": "3.12.7"
  }
 },
 "nbformat": 4,
 "nbformat_minor": 2
}
